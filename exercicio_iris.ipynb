{
  "cells": [
    {
      "cell_type": "code",
      "execution_count": null,
      "metadata": {
        "colab": {
          "base_uri": "https://localhost:8080/"
        },
        "id": "Vsmq6yDQQ1lP",
        "outputId": "62941fe1-5ff4-4732-dde1-bc916ea77db7"
      },
      "outputs": [
        {
          "name": "stdout",
          "output_type": "stream",
          "text": [
            "Primeiras linhas do dataset:\n",
            "   sepal length (cm)  sepal width (cm)  petal length (cm)  petal width (cm)  \\\n",
            "0                5.1               3.5                1.4               0.2   \n",
            "1                4.9               3.0                1.4               0.2   \n",
            "2                4.7               3.2                1.3               0.2   \n",
            "3                4.6               3.1                1.5               0.2   \n",
            "4                5.0               3.6                1.4               0.2   \n",
            "\n",
            "   target  \n",
            "0       0  \n",
            "1       0  \n",
            "2       0  \n",
            "3       0  \n",
            "4       0  \n",
            "\n",
            "Informações gerais do dataset:\n",
            "<class 'pandas.core.frame.DataFrame'>\n",
            "RangeIndex: 150 entries, 0 to 149\n",
            "Data columns (total 5 columns):\n",
            " #   Column             Non-Null Count  Dtype  \n",
            "---  ------             --------------  -----  \n",
            " 0   sepal length (cm)  150 non-null    float64\n",
            " 1   sepal width (cm)   150 non-null    float64\n",
            " 2   petal length (cm)  150 non-null    float64\n",
            " 3   petal width (cm)   150 non-null    float64\n",
            " 4   target             150 non-null    int64  \n",
            "dtypes: float64(4), int64(1)\n",
            "memory usage: 6.0 KB\n",
            "None\n",
            "\n",
            "Estatísticas descritivas:\n",
            "       sepal length (cm)  sepal width (cm)  petal length (cm)  \\\n",
            "count         150.000000        150.000000         150.000000   \n",
            "mean            5.843333          3.057333           3.758000   \n",
            "std             0.828066          0.435866           1.765298   \n",
            "min             4.300000          2.000000           1.000000   \n",
            "25%             5.100000          2.800000           1.600000   \n",
            "50%             5.800000          3.000000           4.350000   \n",
            "75%             6.400000          3.300000           5.100000   \n",
            "max             7.900000          4.400000           6.900000   \n",
            "\n",
            "       petal width (cm)      target  \n",
            "count        150.000000  150.000000  \n",
            "mean           1.199333    1.000000  \n",
            "std            0.762238    0.819232  \n",
            "min            0.100000    0.000000  \n",
            "25%            0.300000    0.000000  \n",
            "50%            1.300000    1.000000  \n",
            "75%            1.800000    2.000000  \n",
            "max            2.500000    2.000000  \n",
            "\n",
            "Classes do alvo (0 = Setosa, 1 = Versicolor, 2 = Virginica):\n",
            "['setosa' 'versicolor' 'virginica']\n"
          ]
        }
      ],
      "source": [
        "# Importando bibliotecas\n",
        "import pandas as pd\n",
        "from sklearn.datasets import load_iris\n",
        "\n",
        "# Carregando o dataset Iris\n",
        "iris = load_iris()\n",
        "\n",
        "# Convertendo para DataFrame\n",
        "df = pd.DataFrame(iris.data, columns=iris.feature_names)\n",
        "df['target'] = iris.target\n",
        "\n",
        "# Mostrando informações iniciais\n",
        "print(\"Primeiras linhas do dataset:\")\n",
        "print(df.head())\n",
        "\n",
        "print(\"\\nInformações gerais do dataset:\")\n",
        "print(df.info())\n",
        "\n",
        "print(\"\\nEstatísticas descritivas:\")\n",
        "print(df.describe())\n",
        "\n",
        "print(\"\\nClasses do alvo (0 = Setosa, 1 = Versicolor, 2 = Virginica):\")\n",
        "print(iris.target_names)\n"
      ]
    },
    {
      "cell_type": "code",
      "execution_count": 2,
      "metadata": {
        "colab": {
          "base_uri": "https://localhost:8080/"
        },
        "id": "3lfJszdmRK4p",
        "outputId": "ef8cf30e-2b54-4515-cd36-8804923f6976"
      },
      "outputs": [
        {
          "name": "stdout",
          "output_type": "stream",
          "text": [
            "\n",
            "Tamanhos dos conjuntos:\n",
            "X_train: (105, 4)\n",
            "X_test: (45, 4)\n",
            "y_train: (105,)\n",
            "y_test: (45,)\n"
          ]
        }
      ],
      "source": [
        "from sklearn.model_selection import train_test_split\n",
        "\n",
        "# Separando em features (X) e alvo (y)\n",
        "X = df.drop(\"target\", axis=1)\n",
        "y = df[\"target\"]\n",
        "\n",
        "# Dividindo em treino (70%) e teste (30%)\n",
        "X_train, X_test, y_train, y_test = train_test_split(\n",
        "    X, y, test_size=0.3, random_state=42, stratify=y\n",
        ")\n",
        "\n",
        "print(\"\\nTamanhos dos conjuntos:\")\n",
        "print(\"X_train:\", X_train.shape)\n",
        "print(\"X_test:\", X_test.shape)\n",
        "print(\"y_train:\", y_train.shape)\n",
        "print(\"y_test:\", y_test.shape)\n"
      ]
    },
    {
      "cell_type": "code",
      "execution_count": 3,
      "metadata": {
        "colab": {
          "base_uri": "https://localhost:8080/",
          "height": 1000
        },
        "id": "EbJZk7EgRYhy",
        "outputId": "24c78768-7a4c-406c-dece-edec53c1bfe7"
      },
      "outputs": [
        {
          "name": "stdout",
          "output_type": "stream",
          "text": [
            "\n",
            "Resultados de Acurácia:\n",
            "Decision Tree: 0.9333\n",
            "Matriz de Confusão:\n",
            "[[15  0  0]\n",
            " [ 0 12  3]\n",
            " [ 0  0 15]]\n",
            "Relatório de Classificação:\n",
            "              precision    recall  f1-score   support\n",
            "\n",
            "      setosa       1.00      1.00      1.00        15\n",
            "  versicolor       1.00      0.80      0.89        15\n",
            "   virginica       0.83      1.00      0.91        15\n",
            "\n",
            "    accuracy                           0.93        45\n",
            "   macro avg       0.94      0.93      0.93        45\n",
            "weighted avg       0.94      0.93      0.93        45\n",
            "\n",
            "--------------------------------------------------\n",
            "KNN: 0.9778\n",
            "Matriz de Confusão:\n",
            "[[15  0  0]\n",
            " [ 0 15  0]\n",
            " [ 0  1 14]]\n",
            "Relatório de Classificação:\n",
            "              precision    recall  f1-score   support\n",
            "\n",
            "      setosa       1.00      1.00      1.00        15\n",
            "  versicolor       0.94      1.00      0.97        15\n",
            "   virginica       1.00      0.93      0.97        15\n",
            "\n",
            "    accuracy                           0.98        45\n",
            "   macro avg       0.98      0.98      0.98        45\n",
            "weighted avg       0.98      0.98      0.98        45\n",
            "\n",
            "--------------------------------------------------\n",
            "Logistic Regression: 0.9333\n",
            "Matriz de Confusão:\n",
            "[[15  0  0]\n",
            " [ 0 14  1]\n",
            " [ 0  2 13]]\n",
            "Relatório de Classificação:\n",
            "              precision    recall  f1-score   support\n",
            "\n",
            "      setosa       1.00      1.00      1.00        15\n",
            "  versicolor       0.88      0.93      0.90        15\n",
            "   virginica       0.93      0.87      0.90        15\n",
            "\n",
            "    accuracy                           0.93        45\n",
            "   macro avg       0.93      0.93      0.93        45\n",
            "weighted avg       0.93      0.93      0.93        45\n",
            "\n",
            "--------------------------------------------------\n"
          ]
        },
        {
          "data": {
            "image/png": "[encoded data removed]",
            "text/plain": [
              "<Figure size 640x480 with 1 Axes>"
            ]
          },
          "metadata": {},
          "output_type": "display_data"
        }
      ],
      "source": [
        "from sklearn.tree import DecisionTreeClassifier\n",
        "from sklearn.neighbors import KNeighborsClassifier\n",
        "from sklearn.linear_model import LogisticRegression\n",
        "from sklearn.metrics import accuracy_score, confusion_matrix, classification_report\n",
        "import matplotlib.pyplot as plt\n",
        "import seaborn as sns\n",
        "\n",
        "# 1. Decision Tree\n",
        "model_tree = DecisionTreeClassifier(random_state=42)\n",
        "model_tree.fit(X_train, y_train)\n",
        "y_pred_tree = model_tree.predict(X_test)\n",
        "\n",
        "# 2. KNN\n",
        "model_knn = KNeighborsClassifier(n_neighbors=5)\n",
        "model_knn.fit(X_train, y_train)\n",
        "y_pred_knn = model_knn.predict(X_test)\n",
        "\n",
        "# 3. Logistic Regression\n",
        "model_log = LogisticRegression(max_iter=200)\n",
        "model_log.fit(X_train, y_train)\n",
        "y_pred_log = model_log.predict(X_test)\n",
        "\n",
        "# Avaliando os modelos\n",
        "models = {\n",
        "    \"Decision Tree\": (y_pred_tree, accuracy_score(y_test, y_pred_tree)),\n",
        "    \"KNN\": (y_pred_knn, accuracy_score(y_test, y_pred_knn)),\n",
        "    \"Logistic Regression\": (y_pred_log, accuracy_score(y_test, y_pred_log))\n",
        "}\n",
        "\n",
        "print(\"\\nResultados de Acurácia:\")\n",
        "for name, (pred, acc) in models.items():\n",
        "    print(f\"{name}: {acc:.4f}\")\n",
        "    print(\"Matriz de Confusão:\")\n",
        "    print(confusion_matrix(y_test, pred))\n",
        "    print(\"Relatório de Classificação:\")\n",
        "    print(classification_report(y_test, pred, target_names=iris.target_names))\n",
        "    print(\"-\" * 50)\n",
        "\n",
        "# Gráfico comparativo\n",
        "scores = [acc for (_, acc) in models.values()]\n",
        "labels = list(models.keys())\n",
        "\n",
        "plt.bar(labels, scores, color=['green', 'blue', 'orange'])\n",
        "plt.ylabel(\"Acurácia\")\n",
        "plt.title(\"Comparação entre modelos\")\n",
        "plt.ylim(0, 1.1)\n",
        "plt.show()\n"
      ]
    },
    {
      "cell_type": "code",
      "execution_count": null,
      "metadata": {},
      "outputs": [],
      "source": [
        "![Comparação entre modelos](Figure_1.png)"
      ]
    }
  ],
  "metadata": {
    "colab": {
      "provenance": []
    },
    "kernelspec": {
      "display_name": "Python 3",
      "name": "python3"
    },
    "language_info": {
      "codemirror_mode": {
        "name": "ipython",
        "version": 3
      },
      "file_extension": ".py",
      "mimetype": "text/x-python",
      "name": "python",
      "nbconvert_exporter": "python",
      "pygments_lexer": "ipython3",
      "version": "3.13.7"
    }
  },
  "nbformat": 4,
  "nbformat_minor": 0
}
